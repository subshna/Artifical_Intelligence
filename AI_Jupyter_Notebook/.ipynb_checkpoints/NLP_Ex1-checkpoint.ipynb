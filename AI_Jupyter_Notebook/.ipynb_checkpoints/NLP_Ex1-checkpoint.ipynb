{
 "cells": [
  {
   "cell_type": "code",
   "execution_count": 1,
   "metadata": {},
   "outputs": [],
   "source": [
    "import pandas as pd\n",
    "from nltk import sent_tokenize, ne_chunk"
   ]
  },
  {
   "cell_type": "code",
   "execution_count": 2,
   "metadata": {},
   "outputs": [],
   "source": [
    "in_filepath = 'E:\\Subash\\AI\\data_in.csv'\n",
    "out_filepath = 'E:\\Subash\\AI\\data_out.csv'"
   ]
  },
  {
   "cell_type": "code",
   "execution_count": 3,
   "metadata": {},
   "outputs": [],
   "source": [
    "df = pd.read_csv(in_filepath, encoding='utf-8')"
   ]
  },
  {
   "cell_type": "code",
   "execution_count": 4,
   "metadata": {},
   "outputs": [],
   "source": [
    "df['Sent_tokenized'] = df.apply(lambda row: sent_tokenize(row['Comment']), axis=1)"
   ]
  },
  {
   "cell_type": "code",
   "execution_count": 5,
   "metadata": {},
   "outputs": [],
   "source": [
    "df['Sent_tokenized'].to_csv(out_filepath, index=False, encoding='utf-8')"
   ]
  },
  {
   "cell_type": "code",
   "execution_count": 7,
   "metadata": {},
   "outputs": [
    {
     "name": "stdout",
     "output_type": "stream",
     "text": [
      "(S\n",
      "  \"Hello there, how are you?\n",
      "  Weather is awesome.\n",
      "  Its raining here now.\")\n",
      "(S\n",
      "  \"Hello Mr. Raja, how are you?\n",
      "  Weather is awesome.\n",
      "  Its raining here now.\")\n",
      "(S\n",
      "  \"Hello Mr. Raja, how are you.\n",
      "  Weather is bad.\n",
      "  Its heavily raining here now.\")\n",
      "(S \"NLP is great technique. It is nice to learn this technique.\")\n",
      "(S\n",
      "  \"AI is making difference in this world now.\n",
      "  It would be helpful for betterment of human life.\n",
      "  We need to make advantage of that.\")\n"
     ]
    }
   ],
   "source": [
    "for sent in df['Sent_tokenized']:\n",
    "    print (ne_chunk(sent))"
   ]
  },
  {
   "cell_type": "code",
   "execution_count": null,
   "metadata": {},
   "outputs": [],
   "source": []
  }
 ],
 "metadata": {
  "kernelspec": {
   "display_name": "Python 2",
   "language": "python",
   "name": "python2"
  },
  "language_info": {
   "codemirror_mode": {
    "name": "ipython",
    "version": 2
   },
   "file_extension": ".py",
   "mimetype": "text/x-python",
   "name": "python",
   "nbconvert_exporter": "python",
   "pygments_lexer": "ipython2",
   "version": "2.7.12"
  }
 },
 "nbformat": 4,
 "nbformat_minor": 2
}
