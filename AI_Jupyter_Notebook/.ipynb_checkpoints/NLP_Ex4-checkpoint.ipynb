{
 "cells": [
  {
   "cell_type": "code",
   "execution_count": 1,
   "metadata": {},
   "outputs": [],
   "source": [
    "from nltk.corpus import stopwords\n",
    "from nltk import word_tokenize\n",
    "from nltk.stem import PorterStemmer, WordNetLemmatizer"
   ]
  },
  {
   "cell_type": "code",
   "execution_count": 2,
   "metadata": {},
   "outputs": [],
   "source": [
    "in_filepath = 'E:\\Subash\\AI\\data_in.txt'"
   ]
  },
  {
   "cell_type": "code",
   "execution_count": 3,
   "metadata": {},
   "outputs": [],
   "source": [
    "fldetails = open(in_filepath, 'r')"
   ]
  },
  {
   "cell_type": "code",
   "execution_count": 4,
   "metadata": {},
   "outputs": [],
   "source": [
    "stop_words = set(stopwords.words('english'))"
   ]
  },
  {
   "cell_type": "code",
   "execution_count": 5,
   "metadata": {},
   "outputs": [],
   "source": [
    "stemmer = PorterStemmer()\n",
    "lemmatize = WordNetLemmatizer()"
   ]
  },
  {
   "cell_type": "code",
   "execution_count": 6,
   "metadata": {},
   "outputs": [
    {
     "name": "stdout",
     "output_type": "stream",
     "text": [
      "Stop Words: --> ['Hello', ',', '?', 'Weather', 'awesome', '.', 'Its', 'raining', '.']\n",
      "Stemming: -->\n",
      "hello there, how are you? weather is awesome. it rain here now.\n",
      "Lemmatization: -->\n",
      "Hello there, how are you? Weather is awesome. Its raining here now.\n",
      "Stop Words: --> ['Hello', 'Mr.', 'Raja', ',', '?', 'Weather', 'awesome', '.', 'Its', 'raining', '.']\n",
      "Stemming: -->\n",
      "hello mr. raja, how are you? weather is awesome. it rain here now.\n",
      "Lemmatization: -->\n",
      "Hello Mr. Raja, how are you? Weather is awesome. Its raining here now.\n",
      "Stop Words: --> ['Hello', 'Mr.', 'Raja', ',', '.', 'Weather', 'bad', '.', 'Its', 'heavily', 'raining', '.']\n",
      "Stemming: -->\n",
      "hello mr. raja, how are you. weather is bad. it heavili rain here now.\n",
      "Lemmatization: -->\n",
      "Hello Mr. Raja, how are you. Weather is bad. Its heavily raining here now.\n",
      "Stop Words: --> ['NLP', 'great', 'technique', '.', 'It', 'nice', 'learn', 'technique', '.']\n",
      "Stemming: -->\n",
      "nlp is great technique. It is nice to learn thi technique.\n",
      "Lemmatization: -->\n",
      "NLP is great technique. It is nice to learn this technique.\n",
      "Stop Words: --> ['AI', 'making', 'difference', 'world', '.', 'It', 'would', 'helpful', 'betterment', 'human', 'life', '.', 'We', 'need', 'make', 'advantage', '.']\n",
      "Stemming: -->\n",
      "AI is make differ in thi world now. It would be help for better of human life. We need to make advantag of that.\n",
      "Lemmatization: -->\n",
      "AI is making difference in this world now. It would be helpful for betterment of human life. We need to make advantage of that.\n"
     ]
    }
   ],
   "source": [
    "for lines in fldetails.readlines():\n",
    "    word_Tokenization = word_tokenize(lines)\n",
    "    filterwords = []\n",
    "    for words in word_Tokenization:\n",
    "        if words not in stop_words:\n",
    "            filterwords.append(words)\n",
    "    print 'Stop Words: -->', filterwords\n",
    "    print 'Stemming: -->'\n",
    "    print \" \".join([stemmer.stem(word) for word in lines.split()])\n",
    "    print 'Lemmatization: -->'\n",
    "    print \" \".join([lemmatize.lemmatize(word) for word in lines.split()])"
   ]
  },
  {
   "cell_type": "code",
   "execution_count": null,
   "metadata": {},
   "outputs": [],
   "source": []
  }
 ],
 "metadata": {
  "kernelspec": {
   "display_name": "Python 2",
   "language": "python",
   "name": "python2"
  },
  "language_info": {
   "codemirror_mode": {
    "name": "ipython",
    "version": 2
   },
   "file_extension": ".py",
   "mimetype": "text/x-python",
   "name": "python",
   "nbconvert_exporter": "python",
   "pygments_lexer": "ipython2",
   "version": "2.7.12"
  }
 },
 "nbformat": 4,
 "nbformat_minor": 2
}
