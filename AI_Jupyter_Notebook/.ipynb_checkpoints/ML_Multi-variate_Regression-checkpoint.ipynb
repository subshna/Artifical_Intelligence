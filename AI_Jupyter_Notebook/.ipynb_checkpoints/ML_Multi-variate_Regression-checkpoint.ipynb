{
 "cells": [
  {
   "cell_type": "code",
   "execution_count": 6,
   "metadata": {},
   "outputs": [],
   "source": [
    "import pandas as pd\n",
    "import matplotlib.pyplot as plt"
   ]
  },
  {
   "cell_type": "code",
   "execution_count": 7,
   "metadata": {},
   "outputs": [],
   "source": [
    "in_filename = 'E:\\Subash\\AI\\Car_MPG_Data.csv'"
   ]
  },
  {
   "cell_type": "code",
   "execution_count": 8,
   "metadata": {},
   "outputs": [],
   "source": [
    "df = pd.read_csv(in_filename, sep=',', index_col=None)"
   ]
  },
  {
   "cell_type": "code",
   "execution_count": 9,
   "metadata": {},
   "outputs": [],
   "source": [
    "data_array = pd.DataFrame(df, columns=['MPG', 'Acceleration'])"
   ]
  },
  {
   "cell_type": "code",
   "execution_count": 10,
   "metadata": {},
   "outputs": [],
   "source": [
    "# Define learning rate and iterations\n",
    "learning_rate = 0.0001\n",
    "iterations = 1000"
   ]
  },
  {
   "cell_type": "code",
   "execution_count": 11,
   "metadata": {},
   "outputs": [],
   "source": [
    "# Compute error for the line given the points\n",
    "pts = data_array.reset_index().values\n",
    "def Compute_Error(b, m, pts):\n",
    "    TotalError = 0\n",
    "    for val in range(0, len(pts)):\n",
    "        x = pts[val, 2]\n",
    "        y = pts[val, 1]\n",
    "        TotalError += (y - (m * x + b)) ** 2\n",
    "    return ('Error: ', TotalError / float(len(pts)))"
   ]
  },
  {
   "cell_type": "code",
   "execution_count": 12,
   "metadata": {},
   "outputs": [],
   "source": [
    "# Step gradient function\n",
    "def Step_Gradient(b_latest, m_latest, pts, learning_rate):\n",
    "    b_gradient = 0; m_gradient = 0; n = float(len(pts))\n",
    "    for val in range(0, len(pts)):\n",
    "        x = pts[val, 2]\n",
    "        y = pts[val, 1]\n",
    "        b_gradient += -(2/n) * (y - ((m_latest * x) + b_latest))\n",
    "        m_gradient += -(2/n) * x * (y - ((m_latest * x ) + b_latest))\n",
    "    updated_b = b_latest - (learning_rate * b_gradient)\n",
    "    updated_m = m_latest - (learning_rate * m_gradient)\n",
    "    return (updated_b, updated_m)"
   ]
  },
  {
   "cell_type": "code",
   "execution_count": 13,
   "metadata": {},
   "outputs": [],
   "source": [
    "# Gradient descent\n",
    "def Gradient_Descent(pts, initial_b, initial_m, learning_rate, num_iter):\n",
    "    b = initial_b; m = initial_m\n",
    "    for val in range(num_iter):\n",
    "        b , m = Step_Gradient(b, m, pts, learning_rate)\n",
    "    return (b, m)"
   ]
  },
  {
   "cell_type": "code",
   "execution_count": 14,
   "metadata": {},
   "outputs": [
    {
     "name": "stdout",
     "output_type": "stream",
     "text": [
      "Starting Error:  ('Error: ', 613.8712562814071)\n"
     ]
    }
   ],
   "source": [
    "# Calculate Gradient Descent for Initial value and total iterations\n",
    "b = 0; m = 0\n",
    "Start_Error = Compute_Error(b, m, pts)\n",
    "print 'Starting Error: ', Start_Error"
   ]
  },
  {
   "cell_type": "code",
   "execution_count": 15,
   "metadata": {},
   "outputs": [
    {
     "name": "stdout",
     "output_type": "stream",
     "text": [
      "Error after 1000 iterations ('Error: ', 50.8852731718681)\n"
     ]
    }
   ],
   "source": [
    "[b, m] = Gradient_Descent(pts, b, m, learning_rate, iterations)\n",
    "Error = Compute_Error(b, m, pts)\n",
    "print 'Error after %d iterations' %iterations, Error"
   ]
  },
  {
   "cell_type": "code",
   "execution_count": 16,
   "metadata": {},
   "outputs": [
    {
     "data": {
      "image/png": "[encoded data removed]",
      "text/plain": [
       "<matplotlib.figure.Figure at 0x12bc7b50>"
      ]
     },
     "metadata": {},
     "output_type": "display_data"
    }
   ],
   "source": [
    "# Display using scatter plot the data points and the best fit line\n",
    "for val in range(0, len(pts)):\n",
    "    x = pts[val, 2]\n",
    "    y = pts[val, 1]\n",
    "    plt.scatter(x, y, color='black')\n",
    "    plt.plot(data_array.Acceleration, (m * data_array.Acceleration + b), color='blue')"
   ]
  },
  {
   "cell_type": "code",
   "execution_count": 17,
   "metadata": {},
   "outputs": [
    {
     "data": {
      "text/plain": [
       "[<matplotlib.lines.Line2D at 0x14131af0>]"
      ]
     },
     "execution_count": 17,
     "metadata": {},
     "output_type": "execute_result"
    },
    {
     "data": {
      "image/png": "[encoded data removed]",
      "text/plain": [
       "<matplotlib.figure.Figure at 0x2e90870>"
      ]
     },
     "metadata": {},
     "output_type": "display_data"
    }
   ],
   "source": [
    "# Display the Gradient and y-intercept value in the form y = mx+c\n",
    "plt.plot(data_array.Acceleration, (m * data_array.Acceleration + b), color='blue')"
   ]
  },
  {
   "cell_type": "code",
   "execution_count": null,
   "metadata": {},
   "outputs": [],
   "source": []
  }
 ],
 "metadata": {
  "kernelspec": {
   "display_name": "Python 2",
   "language": "python",
   "name": "python2"
  },
  "language_info": {
   "codemirror_mode": {
    "name": "ipython",
    "version": 2
   },
   "file_extension": ".py",
   "mimetype": "text/x-python",
   "name": "python",
   "nbconvert_exporter": "python",
   "pygments_lexer": "ipython2",
   "version": "2.7.12"
  }
 },
 "nbformat": 4,
 "nbformat_minor": 2
}
