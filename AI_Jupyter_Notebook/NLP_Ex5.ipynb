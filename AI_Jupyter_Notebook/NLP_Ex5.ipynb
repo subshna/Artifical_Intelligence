{
 "cells": [
  {
   "cell_type": "code",
   "execution_count": 1,
   "metadata": {},
   "outputs": [],
   "source": [
    "in_filename = 'E:\\Subash\\AI\\Sentiment_Weightage.txt'"
   ]
  },
  {
   "cell_type": "code",
   "execution_count": 2,
   "metadata": {},
   "outputs": [],
   "source": [
    "TotalScore = 0"
   ]
  },
  {
   "cell_type": "code",
   "execution_count": 3,
   "metadata": {},
   "outputs": [],
   "source": [
    "Dict_Sentiment = {}"
   ]
  },
  {
   "cell_type": "code",
   "execution_count": 4,
   "metadata": {},
   "outputs": [],
   "source": [
    "Sentiment_Dialouge = 'This is the Good climate but humidity is terrible'.lower()"
   ]
  },
  {
   "cell_type": "code",
   "execution_count": 5,
   "metadata": {},
   "outputs": [],
   "source": [
    "fldetails = open(in_filename, 'r')"
   ]
  },
  {
   "cell_type": "code",
   "execution_count": 6,
   "metadata": {},
   "outputs": [],
   "source": [
    "for lines in fldetails.readlines():\n",
    "    Senti_Words, Score = lines.split('\\t')\n",
    "    Dict_Sentiment[Senti_Words] = int(Score)"
   ]
  },
  {
   "cell_type": "code",
   "execution_count": 7,
   "metadata": {},
   "outputs": [],
   "source": [
    "for eachWord in Sentiment_Dialouge.split():\n",
    "    WordScore = int(Dict_Sentiment.get(eachWord, 0))\n",
    "    TotalScore += WordScore"
   ]
  },
  {
   "cell_type": "code",
   "execution_count": 8,
   "metadata": {},
   "outputs": [
    {
     "name": "stdout",
     "output_type": "stream",
     "text": [
      "Senti Score for Sentence:  -2\n"
     ]
    }
   ],
   "source": [
    "print 'Senti Score for Sentence: ', TotalScore"
   ]
  },
  {
   "cell_type": "code",
   "execution_count": 9,
   "metadata": {},
   "outputs": [
    {
     "name": "stdout",
     "output_type": "stream",
     "text": [
      "Statement is Negative\n"
     ]
    }
   ],
   "source": [
    "if TotalScore < 0:\n",
    "    print 'Statement is Negative'\n",
    "elif TotalScore > 0:\n",
    "    print 'Statement is Positive'\n",
    "else:\n",
    "    print 'Statement is Neutral'"
   ]
  },
  {
   "cell_type": "code",
   "execution_count": null,
   "metadata": {},
   "outputs": [],
   "source": []
  }
 ],
 "metadata": {
  "kernelspec": {
   "display_name": "Python 2",
   "language": "python",
   "name": "python2"
  },
  "language_info": {
   "codemirror_mode": {
    "name": "ipython",
    "version": 2
   },
   "file_extension": ".py",
   "mimetype": "text/x-python",
   "name": "python",
   "nbconvert_exporter": "python",
   "pygments_lexer": "ipython2",
   "version": "2.7.12"
  }
 },
 "nbformat": 4,
 "nbformat_minor": 2
}
