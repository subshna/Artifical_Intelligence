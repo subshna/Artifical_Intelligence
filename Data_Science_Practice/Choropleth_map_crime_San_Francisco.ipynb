
# coding: utf-8

# In[1]:


import pandas as pd
import numpy as np


# In[79]:


df_Sanfran = pd.read_csv('https://cocl.us/sanfran_crime_dataset')
df_Sanfran.head()


# In[80]:


df_Sanfran.rename(columns={'PdDistrict' : 'Neighborhood'}, inplace=True)


# In[145]:


Neigh_Count = (df_Sanfran['Neighborhood'].value_counts())
df_Neigh = (pd.DataFrame(Neigh_Count)).reset_index()
df_Neigh = df_Neigh.rename(columns={'index':'Neighborhood', 'Neighborhood':'Count'})
df_Neigh


# In[114]:


get_ipython().system('conda install -c conda-forge folium=0.5.0 --yes')
import folium
print ('Folium import Successfully')


# In[133]:


get_ipython().system('wget --quiet https://cocl.us/sanfran_geojson -O sanfran_geo.json')
print('Sanfransico GeoJSON file downloaded!')


# In[148]:


sanfran_geo = r'sanfran_geo.json'
sanfran_map = folium.Map(location=[37.7749, -122.4194], zoom_start=12)
sanfran_map.choropleth(
    geo_data=sanfran_geo,
    data=df_Neigh,
    columns=['Neighborhood', 'Count'],
    key_on='feature.properties.DISTRICT',
    fill_color='YlOrRd',
    fill_opacity=0.7,
    line_opacity=0.2,
    legend_name='Crime rate in Sanfransico'
)
sanfran_map

