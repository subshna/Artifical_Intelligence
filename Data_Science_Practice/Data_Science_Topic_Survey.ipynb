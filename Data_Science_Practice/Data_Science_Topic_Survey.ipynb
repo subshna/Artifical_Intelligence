
# coding: utf-8

# In[1]:


import pandas as pd
import numpy as np


# In[2]:


df_survey = pd.read_csv('https://cocl.us/datasciece_survey_data')
print ('File Successfully downloaded!')


# In[3]:


df_survey.drop(['Timestamp'], axis=1, inplace=True)
df_survey.head()


# In[4]:


df_shape = df_survey.shape
total_rw_cnt = df_shape[0]


# In[5]:


Topic_Survey={}
for col in df_survey.columns.values:
    topic = col.split('? ')
    topic_key = topic[1].strip('[]')
    sum_choice = df_survey[col].value_counts()
    Topic_Survey[topic_key] = sum_choice


# In[6]:


df_survey = pd.DataFrame.from_dict(Topic_Survey)
df_survey = df_survey.transpose()
df_survey


# In[11]:


df_survey = df_survey[['Very interested', 'Somewhat interested', 'Not interested']]
df_survey.sort_values(['Very interested'], ascending=False, axis=0, inplace=True)
df_survey


# In[12]:


df_sur_Per = round((df_survey/total_rw_cnt)*100, 2)
df_sur_Per


# In[35]:


get_ipython().run_line_magic('matplotlib', 'inline')
import matplotlib.pyplot as plt
import matplotlib as mpl


# In[100]:


ax = df_sur_Per.plot(kind='bar', figsize=(20, 8), width=0.8, 
               color=('#5cb85c', '#5bc0de', '#d9534f'), fontsize=14)
plt.legend(fontsize=14)
plt.title('Percentage of Respondents Interest in Data Science Area', fontsize=16)
for p in ax.patches:
    width, height = p.get_width(), p.get_height()
    ax.annotate('{}%'.format(height), (p.get_x() + 0.01*width, p.get_y() + height + 1), fontsize=14)

    ax.get_yaxis().set_visible(False)
    ax.spines['top'].set_visible(False)
    ax.spines['left'].set_visible(False)
    ax.spines['right'].set_visible(False)
plt.show()

