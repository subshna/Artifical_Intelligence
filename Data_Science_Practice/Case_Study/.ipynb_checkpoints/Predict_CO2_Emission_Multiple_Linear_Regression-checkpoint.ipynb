{
 "cells": [
  {
   "cell_type": "code",
   "execution_count": 28,
   "metadata": {},
   "outputs": [],
   "source": [
    "import numpy as np\n",
    "import pandas as pd\n",
    "import matplotlib.pyplot as plt\n",
    "%matplotlib inline"
   ]
  },
  {
   "cell_type": "code",
   "execution_count": 29,
   "metadata": {},
   "outputs": [
    {
     "data": {
      "text/html": [
       "<div>\n",
       "<style>\n",
       "    .dataframe thead tr:only-child th {\n",
       "        text-align: right;\n",
       "    }\n",
       "\n",
       "    .dataframe thead th {\n",
       "        text-align: left;\n",
       "    }\n",
       "\n",
       "    .dataframe tbody tr th {\n",
       "        vertical-align: top;\n",
       "    }\n",
       "</style>\n",
       "<table border=\"1\" class=\"dataframe\">\n",
       "  <thead>\n",
       "    <tr>\n",
       "      <th></th>\n",
       "      <th>MODEL</th>\n",
       "      <th>MAKE</th>\n",
       "      <th>MODEL</th>\n",
       "      <th>VEHICLE CLASS</th>\n",
       "      <th>ENGINE SIZE</th>\n",
       "      <th>CYLINDERS</th>\n",
       "      <th>TRANSMISSION</th>\n",
       "      <th>FUEL</th>\n",
       "      <th>FUEL CONSUMPTION</th>\n",
       "      <th>Unnamed: 9_level_0</th>\n",
       "      <th>Unnamed: 10_level_0</th>\n",
       "      <th>Unnamed: 11_level_0</th>\n",
       "      <th>CO2 EMISSIONS</th>\n",
       "    </tr>\n",
       "    <tr>\n",
       "      <th></th>\n",
       "      <th>YEAR</th>\n",
       "      <th>Unnamed: 1_level_1</th>\n",
       "      <th># = high output engine</th>\n",
       "      <th>Unnamed: 3_level_1</th>\n",
       "      <th>(L)</th>\n",
       "      <th>Unnamed: 5_level_1</th>\n",
       "      <th>Unnamed: 6_level_1</th>\n",
       "      <th>TYPE</th>\n",
       "      <th>CITY (L/100 km)</th>\n",
       "      <th>HWY (L/100 km)</th>\n",
       "      <th>COMB (L/100 km)</th>\n",
       "      <th>COMB (mpg)</th>\n",
       "      <th>(g/km)</th>\n",
       "    </tr>\n",
       "  </thead>\n",
       "  <tbody>\n",
       "    <tr>\n",
       "      <th>0</th>\n",
       "      <td>1995</td>\n",
       "      <td>ACURA</td>\n",
       "      <td>INTEGRA</td>\n",
       "      <td>SUBCOMPACT</td>\n",
       "      <td>1.8</td>\n",
       "      <td>4</td>\n",
       "      <td>A4</td>\n",
       "      <td>X</td>\n",
       "      <td>10.2</td>\n",
       "      <td>7.0</td>\n",
       "      <td>8.8</td>\n",
       "      <td>32</td>\n",
       "      <td>202</td>\n",
       "    </tr>\n",
       "    <tr>\n",
       "      <th>1</th>\n",
       "      <td>1995</td>\n",
       "      <td>ACURA</td>\n",
       "      <td>INTEGRA</td>\n",
       "      <td>SUBCOMPACT</td>\n",
       "      <td>1.8</td>\n",
       "      <td>4</td>\n",
       "      <td>M5</td>\n",
       "      <td>X</td>\n",
       "      <td>9.6</td>\n",
       "      <td>7.0</td>\n",
       "      <td>8.4</td>\n",
       "      <td>34</td>\n",
       "      <td>193</td>\n",
       "    </tr>\n",
       "    <tr>\n",
       "      <th>2</th>\n",
       "      <td>1995</td>\n",
       "      <td>ACURA</td>\n",
       "      <td>INTEGRA GS-R</td>\n",
       "      <td>SUBCOMPACT</td>\n",
       "      <td>1.8</td>\n",
       "      <td>4</td>\n",
       "      <td>M5</td>\n",
       "      <td>Z</td>\n",
       "      <td>9.4</td>\n",
       "      <td>7.0</td>\n",
       "      <td>8.3</td>\n",
       "      <td>34</td>\n",
       "      <td>191</td>\n",
       "    </tr>\n",
       "    <tr>\n",
       "      <th>3</th>\n",
       "      <td>1995</td>\n",
       "      <td>ACURA</td>\n",
       "      <td>LEGEND</td>\n",
       "      <td>COMPACT</td>\n",
       "      <td>3.2</td>\n",
       "      <td>6</td>\n",
       "      <td>A4</td>\n",
       "      <td>Z</td>\n",
       "      <td>12.6</td>\n",
       "      <td>8.9</td>\n",
       "      <td>10.9</td>\n",
       "      <td>26</td>\n",
       "      <td>251</td>\n",
       "    </tr>\n",
       "    <tr>\n",
       "      <th>4</th>\n",
       "      <td>1995</td>\n",
       "      <td>ACURA</td>\n",
       "      <td>LEGEND COUPE</td>\n",
       "      <td>COMPACT</td>\n",
       "      <td>3.2</td>\n",
       "      <td>6</td>\n",
       "      <td>A4</td>\n",
       "      <td>Z</td>\n",
       "      <td>13.0</td>\n",
       "      <td>9.3</td>\n",
       "      <td>11.3</td>\n",
       "      <td>25</td>\n",
       "      <td>260</td>\n",
       "    </tr>\n",
       "  </tbody>\n",
       "</table>\n",
       "</div>"
      ],
      "text/plain": [
       "  MODEL               MAKE                  MODEL      VEHICLE CLASS  \\\n",
       "   YEAR Unnamed: 1_level_1 # = high output engine Unnamed: 3_level_1   \n",
       "0  1995              ACURA                INTEGRA         SUBCOMPACT   \n",
       "1  1995              ACURA                INTEGRA         SUBCOMPACT   \n",
       "2  1995              ACURA           INTEGRA GS-R         SUBCOMPACT   \n",
       "3  1995              ACURA                 LEGEND            COMPACT   \n",
       "4  1995              ACURA           LEGEND COUPE            COMPACT   \n",
       "\n",
       "  ENGINE SIZE          CYLINDERS       TRANSMISSION FUEL FUEL CONSUMPTION  \\\n",
       "          (L) Unnamed: 5_level_1 Unnamed: 6_level_1 TYPE  CITY (L/100 km)   \n",
       "0         1.8                  4                 A4    X             10.2   \n",
       "1         1.8                  4                 M5    X              9.6   \n",
       "2         1.8                  4                 M5    Z              9.4   \n",
       "3         3.2                  6                 A4    Z             12.6   \n",
       "4         3.2                  6                 A4    Z             13.0   \n",
       "\n",
       "  Unnamed: 9_level_0 Unnamed: 10_level_0 Unnamed: 11_level_0 CO2 EMISSIONS   \n",
       "      HWY (L/100 km)     COMB (L/100 km)          COMB (mpg)         (g/km)  \n",
       "0                7.0                 8.8                  32            202  \n",
       "1                7.0                 8.4                  34            193  \n",
       "2                7.0                 8.3                  34            191  \n",
       "3                8.9                10.9                  26            251  \n",
       "4                9.3                11.3                  25            260  "
      ]
     },
     "execution_count": 29,
     "metadata": {},
     "output_type": "execute_result"
    }
   ],
   "source": [
    "csv_path = 'E:\\Subash\\Python\\Data_Science_Practice\\Case_Study\\Original_1995-1999_Fuel_Consumption_Ratings.csv'\n",
    "df = pd.read_csv(csv_path, header=[0,1])\n",
    "df.head()"
   ]
  },
  {
   "cell_type": "code",
   "execution_count": 30,
   "metadata": {},
   "outputs": [
    {
     "data": {
      "text/html": [
       "<div>\n",
       "<style>\n",
       "    .dataframe thead tr:only-child th {\n",
       "        text-align: right;\n",
       "    }\n",
       "\n",
       "    .dataframe thead th {\n",
       "        text-align: left;\n",
       "    }\n",
       "\n",
       "    .dataframe tbody tr th {\n",
       "        vertical-align: top;\n",
       "    }\n",
       "</style>\n",
       "<table border=\"1\" class=\"dataframe\">\n",
       "  <thead>\n",
       "    <tr style=\"text-align: right;\">\n",
       "      <th></th>\n",
       "      <th>MODEL_YEAR</th>\n",
       "      <th>MAKE_Unnamed: 1_level_1</th>\n",
       "      <th>MODEL_# = high output engine</th>\n",
       "      <th>VEHICLE CLASS_Unnamed: 3_level_1</th>\n",
       "      <th>ENGINE SIZE_(L)</th>\n",
       "      <th>CYLINDERS_Unnamed: 5_level_1</th>\n",
       "      <th>TRANSMISSION_Unnamed: 6_level_1</th>\n",
       "      <th>FUEL_TYPE</th>\n",
       "      <th>FUEL CONSUMPTION_CITY (L/100 km)</th>\n",
       "      <th>Unnamed: 9_level_0_HWY (L/100 km)</th>\n",
       "      <th>Unnamed: 10_level_0_COMB (L/100 km)</th>\n",
       "      <th>Unnamed: 11_level_0_COMB (mpg)</th>\n",
       "      <th>CO2 EMISSIONS _(g/km)</th>\n",
       "    </tr>\n",
       "  </thead>\n",
       "  <tbody>\n",
       "    <tr>\n",
       "      <th>0</th>\n",
       "      <td>1995</td>\n",
       "      <td>ACURA</td>\n",
       "      <td>INTEGRA</td>\n",
       "      <td>SUBCOMPACT</td>\n",
       "      <td>1.8</td>\n",
       "      <td>4</td>\n",
       "      <td>A4</td>\n",
       "      <td>X</td>\n",
       "      <td>10.2</td>\n",
       "      <td>7.0</td>\n",
       "      <td>8.8</td>\n",
       "      <td>32</td>\n",
       "      <td>202</td>\n",
       "    </tr>\n",
       "    <tr>\n",
       "      <th>1</th>\n",
       "      <td>1995</td>\n",
       "      <td>ACURA</td>\n",
       "      <td>INTEGRA</td>\n",
       "      <td>SUBCOMPACT</td>\n",
       "      <td>1.8</td>\n",
       "      <td>4</td>\n",
       "      <td>M5</td>\n",
       "      <td>X</td>\n",
       "      <td>9.6</td>\n",
       "      <td>7.0</td>\n",
       "      <td>8.4</td>\n",
       "      <td>34</td>\n",
       "      <td>193</td>\n",
       "    </tr>\n",
       "    <tr>\n",
       "      <th>2</th>\n",
       "      <td>1995</td>\n",
       "      <td>ACURA</td>\n",
       "      <td>INTEGRA GS-R</td>\n",
       "      <td>SUBCOMPACT</td>\n",
       "      <td>1.8</td>\n",
       "      <td>4</td>\n",
       "      <td>M5</td>\n",
       "      <td>Z</td>\n",
       "      <td>9.4</td>\n",
       "      <td>7.0</td>\n",
       "      <td>8.3</td>\n",
       "      <td>34</td>\n",
       "      <td>191</td>\n",
       "    </tr>\n",
       "    <tr>\n",
       "      <th>3</th>\n",
       "      <td>1995</td>\n",
       "      <td>ACURA</td>\n",
       "      <td>LEGEND</td>\n",
       "      <td>COMPACT</td>\n",
       "      <td>3.2</td>\n",
       "      <td>6</td>\n",
       "      <td>A4</td>\n",
       "      <td>Z</td>\n",
       "      <td>12.6</td>\n",
       "      <td>8.9</td>\n",
       "      <td>10.9</td>\n",
       "      <td>26</td>\n",
       "      <td>251</td>\n",
       "    </tr>\n",
       "    <tr>\n",
       "      <th>4</th>\n",
       "      <td>1995</td>\n",
       "      <td>ACURA</td>\n",
       "      <td>LEGEND COUPE</td>\n",
       "      <td>COMPACT</td>\n",
       "      <td>3.2</td>\n",
       "      <td>6</td>\n",
       "      <td>A4</td>\n",
       "      <td>Z</td>\n",
       "      <td>13.0</td>\n",
       "      <td>9.3</td>\n",
       "      <td>11.3</td>\n",
       "      <td>25</td>\n",
       "      <td>260</td>\n",
       "    </tr>\n",
       "  </tbody>\n",
       "</table>\n",
       "</div>"
      ],
      "text/plain": [
       "   MODEL_YEAR MAKE_Unnamed: 1_level_1 MODEL_# = high output engine  \\\n",
       "0        1995                   ACURA                      INTEGRA   \n",
       "1        1995                   ACURA                      INTEGRA   \n",
       "2        1995                   ACURA                 INTEGRA GS-R   \n",
       "3        1995                   ACURA                       LEGEND   \n",
       "4        1995                   ACURA                 LEGEND COUPE   \n",
       "\n",
       "  VEHICLE CLASS_Unnamed: 3_level_1  ENGINE SIZE_(L)  \\\n",
       "0                       SUBCOMPACT              1.8   \n",
       "1                       SUBCOMPACT              1.8   \n",
       "2                       SUBCOMPACT              1.8   \n",
       "3                          COMPACT              3.2   \n",
       "4                          COMPACT              3.2   \n",
       "\n",
       "   CYLINDERS_Unnamed: 5_level_1 TRANSMISSION_Unnamed: 6_level_1 FUEL_TYPE  \\\n",
       "0                             4                              A4         X   \n",
       "1                             4                              M5         X   \n",
       "2                             4                              M5         Z   \n",
       "3                             6                              A4         Z   \n",
       "4                             6                              A4         Z   \n",
       "\n",
       "   FUEL CONSUMPTION_CITY (L/100 km)  Unnamed: 9_level_0_HWY (L/100 km)  \\\n",
       "0                              10.2                                7.0   \n",
       "1                               9.6                                7.0   \n",
       "2                               9.4                                7.0   \n",
       "3                              12.6                                8.9   \n",
       "4                              13.0                                9.3   \n",
       "\n",
       "   Unnamed: 10_level_0_COMB (L/100 km)  Unnamed: 11_level_0_COMB (mpg)  \\\n",
       "0                                  8.8                              32   \n",
       "1                                  8.4                              34   \n",
       "2                                  8.3                              34   \n",
       "3                                 10.9                              26   \n",
       "4                                 11.3                              25   \n",
       "\n",
       "   CO2 EMISSIONS _(g/km)  \n",
       "0                    202  \n",
       "1                    193  \n",
       "2                    191  \n",
       "3                    251  \n",
       "4                    260  "
      ]
     },
     "execution_count": 30,
     "metadata": {},
     "output_type": "execute_result"
    }
   ],
   "source": [
    "df.columns = df.columns.map('_'.join)\n",
    "df.head()"
   ]
  },
  {
   "cell_type": "code",
   "execution_count": 31,
   "metadata": {},
   "outputs": [],
   "source": [
    "df.rename(columns={'ENGINE SIZE_(L)':'ENGINE_SIZE', 'CYLINDERS_Unnamed: 5_level_1':'CYLINDERS', 'Unnamed: 10_level_0_COMB (L/100 km)':'FUEL_CONSUMPTION_COMB', 'CO2 EMISSIONS _(g/km)':'CO2_EMISSIONS',\n",
    "                  'FUEL CONSUMPTION_CITY (L/100 km)': 'FUEL_CONSUMPTION_CITY', 'Unnamed: 9_level_0_HWY (L/100 km)':'FUEL_CONSUMPTION_HWY'}, inplace=True)"
   ]
  },
  {
   "cell_type": "code",
   "execution_count": 32,
   "metadata": {},
   "outputs": [],
   "source": [
    "cdf = df[['ENGINE_SIZE', 'CYLINDERS', 'FUEL_CONSUMPTION_COMB', 'CO2_EMISSIONS']]"
   ]
  },
  {
   "cell_type": "code",
   "execution_count": 33,
   "metadata": {},
   "outputs": [
    {
     "data": {
      "image/png": "[encoded data removed]",
      "text/plain": [
       "<matplotlib.figure.Figure at 0xa8b4cf0>"
      ]
     },
     "metadata": {},
     "output_type": "display_data"
    }
   ],
   "source": [
    "# Plot the scatter plot for Engine size\n",
    "plt.scatter(cdf.ENGINE_SIZE, cdf.CO2_EMISSIONS, color='blue')\n",
    "plt.xlabel('Engine Size')\n",
    "plt.ylabel('Emission')\n",
    "plt.show()"
   ]
  },
  {
   "cell_type": "code",
   "execution_count": 14,
   "metadata": {},
   "outputs": [],
   "source": [
    "# Train the data\n",
    "msk = np.random.rand(len(df)) < 0.8\n",
    "train = df[msk]\n",
    "test = df[~msk]"
   ]
  },
  {
   "cell_type": "code",
   "execution_count": 16,
   "metadata": {},
   "outputs": [
    {
     "data": {
      "image/png": "[encoded data removed]",
      "text/plain": [
       "<matplotlib.figure.Figure at 0x96d5270>"
      ]
     },
     "metadata": {},
     "output_type": "display_data"
    }
   ],
   "source": [
    "# Train data distribution\n",
    "plt.scatter(train.ENGINE_SIZE, train.CO2_EMISSIONS, color = 'blue')\n",
    "plt.xlabel('Engine Size')\n",
    "plt.ylabel('Emission')\n",
    "plt.show()"
   ]
  },
  {
   "cell_type": "markdown",
   "metadata": {},
   "source": [
    "Multiple Regression Model\n",
    "\n",
    "In reality, there are multiple variables that predict the Co2emission. When more than one independent variable is present, the process is called multiple linear regression. For example, predicting co2emission using FUELCONSUMPTION_COMB, EngineSize and Cylinders of cars. The good thing here is that Multiple linear regression is the extension of simple linear regression model."
   ]
  },
  {
   "cell_type": "code",
   "execution_count": 23,
   "metadata": {},
   "outputs": [
    {
     "data": {
      "text/plain": [
       "LinearRegression(copy_X=True, fit_intercept=True, n_jobs=1, normalize=False)"
      ]
     },
     "execution_count": 23,
     "metadata": {},
     "output_type": "execute_result"
    }
   ],
   "source": [
    "from sklearn import linear_model\n",
    "regr = linear_model.LinearRegression()\n",
    "\n",
    "x = np.asanyarray(train[['ENGINE_SIZE', 'CYLINDERS', 'FUEL_CONSUMPTION_COMB']])\n",
    "y = np.asanyarray(train[['CO2_EMISSIONS']])\n",
    "\n",
    "regr.fit(x,y)"
   ]
  },
  {
   "cell_type": "code",
   "execution_count": 24,
   "metadata": {},
   "outputs": [
    {
     "name": "stdout",
     "output_type": "stream",
     "text": [
      "('Coefficient: ', array([[ 6.67047002, -1.43313275, 20.60451497]]))\n"
     ]
    }
   ],
   "source": [
    "# print the linear coefficients\n",
    "print ('Coefficient: ', regr.coef_)"
   ]
  },
  {
   "cell_type": "markdown",
   "metadata": {},
   "source": [
    "Ordinary Least Squares (OLS)\n",
    "\n",
    "OLS is a method for estimating the unknown parameters in a linear regression model. OLS chooses the parameters of a linear function of a set of explanatory variables by minimizing the sum of the squares of the differences between the target dependent variable and those predicted by the linear function. In other words, it tries to minimizes the sum of squared errors (SSE) or mean squared error (MSE) between the target variable (y) and our predicted output ( ŷ y^ ) over all samples in the dataset."
   ]
  },
  {
   "cell_type": "code",
   "execution_count": 27,
   "metadata": {},
   "outputs": [
    {
     "name": "stdout",
     "output_type": "stream",
     "text": [
      "Residual Sum of Square: 26.91\n",
      "Variance Score: 0.99\n"
     ]
    }
   ],
   "source": [
    "yhat = regr.predict(test[['ENGINE_SIZE', 'CYLINDERS', 'FUEL_CONSUMPTION_COMB']])\n",
    "x = np.asanyarray(test[['ENGINE_SIZE', 'CYLINDERS', 'FUEL_CONSUMPTION_COMB']])\n",
    "y = np.asanyarray(test[['CO2_EMISSIONS']])\n",
    "\n",
    "print('Residual Sum of Square: %.2f' % np.mean((yhat - y) ** 2))\n",
    "\n",
    "# Variance Score\n",
    "print('Variance Score: %.2f' % regr.score(x, y))"
   ]
  },
  {
   "cell_type": "markdown",
   "metadata": {},
   "source": [
    "Try to use a multiple linear regression with the same dataset but this time use FUEL CONSUMPTION in CITY and FUEL CONSUMPTION in HWY instead of FUELCONSUMPTION_COMB. Does it result in better accuracy?"
   ]
  },
  {
   "cell_type": "code",
   "execution_count": null,
   "metadata": {},
   "outputs": [],
   "source": []
  }
 ],
 "metadata": {
  "kernelspec": {
   "display_name": "Python 2",
   "language": "python",
   "name": "python2"
  },
  "language_info": {
   "codemirror_mode": {
    "name": "ipython",
    "version": 2
   },
   "file_extension": ".py",
   "mimetype": "text/x-python",
   "name": "python",
   "nbconvert_exporter": "python",
   "pygments_lexer": "ipython2",
   "version": "2.7.12"
  }
 },
 "nbformat": 4,
 "nbformat_minor": 2
}
