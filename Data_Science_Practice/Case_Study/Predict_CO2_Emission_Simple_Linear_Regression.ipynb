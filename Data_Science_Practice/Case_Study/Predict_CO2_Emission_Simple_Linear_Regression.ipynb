{
 "cells": [
  {
   "cell_type": "code",
   "execution_count": 23,
   "metadata": {},
   "outputs": [],
   "source": [
    "import numpy as np\n",
    "import pandas as pd\n",
    "import matplotlib.pyplot as plt\n",
    "%matplotlib inline"
   ]
  },
  {
   "cell_type": "code",
   "execution_count": 24,
   "metadata": {},
   "outputs": [
    {
     "data": {
      "text/html": [
       "<div>\n",
       "<style>\n",
       "    .dataframe thead tr:only-child th {\n",
       "        text-align: right;\n",
       "    }\n",
       "\n",
       "    .dataframe thead th {\n",
       "        text-align: left;\n",
       "    }\n",
       "\n",
       "    .dataframe tbody tr th {\n",
       "        vertical-align: top;\n",
       "    }\n",
       "</style>\n",
       "<table border=\"1\" class=\"dataframe\">\n",
       "  <thead>\n",
       "    <tr>\n",
       "      <th></th>\n",
       "      <th>MODEL</th>\n",
       "      <th>MAKE</th>\n",
       "      <th>MODEL</th>\n",
       "      <th>VEHICLE CLASS</th>\n",
       "      <th>ENGINE SIZE</th>\n",
       "      <th>CYLINDERS</th>\n",
       "      <th>TRANSMISSION</th>\n",
       "      <th>FUEL</th>\n",
       "      <th>FUEL CONSUMPTION</th>\n",
       "      <th>Unnamed: 9_level_0</th>\n",
       "      <th>Unnamed: 10_level_0</th>\n",
       "      <th>Unnamed: 11_level_0</th>\n",
       "      <th>CO2 EMISSIONS</th>\n",
       "    </tr>\n",
       "    <tr>\n",
       "      <th></th>\n",
       "      <th>YEAR</th>\n",
       "      <th>Unnamed: 1_level_1</th>\n",
       "      <th># = high output engine</th>\n",
       "      <th>Unnamed: 3_level_1</th>\n",
       "      <th>(L)</th>\n",
       "      <th>Unnamed: 5_level_1</th>\n",
       "      <th>Unnamed: 6_level_1</th>\n",
       "      <th>TYPE</th>\n",
       "      <th>CITY (L/100 km)</th>\n",
       "      <th>HWY (L/100 km)</th>\n",
       "      <th>COMB (L/100 km)</th>\n",
       "      <th>COMB (mpg)</th>\n",
       "      <th>(g/km)</th>\n",
       "    </tr>\n",
       "  </thead>\n",
       "  <tbody>\n",
       "    <tr>\n",
       "      <th>0</th>\n",
       "      <td>1995</td>\n",
       "      <td>ACURA</td>\n",
       "      <td>INTEGRA</td>\n",
       "      <td>SUBCOMPACT</td>\n",
       "      <td>1.8</td>\n",
       "      <td>4</td>\n",
       "      <td>A4</td>\n",
       "      <td>X</td>\n",
       "      <td>10.2</td>\n",
       "      <td>7.0</td>\n",
       "      <td>8.8</td>\n",
       "      <td>32</td>\n",
       "      <td>202</td>\n",
       "    </tr>\n",
       "    <tr>\n",
       "      <th>1</th>\n",
       "      <td>1995</td>\n",
       "      <td>ACURA</td>\n",
       "      <td>INTEGRA</td>\n",
       "      <td>SUBCOMPACT</td>\n",
       "      <td>1.8</td>\n",
       "      <td>4</td>\n",
       "      <td>M5</td>\n",
       "      <td>X</td>\n",
       "      <td>9.6</td>\n",
       "      <td>7.0</td>\n",
       "      <td>8.4</td>\n",
       "      <td>34</td>\n",
       "      <td>193</td>\n",
       "    </tr>\n",
       "    <tr>\n",
       "      <th>2</th>\n",
       "      <td>1995</td>\n",
       "      <td>ACURA</td>\n",
       "      <td>INTEGRA GS-R</td>\n",
       "      <td>SUBCOMPACT</td>\n",
       "      <td>1.8</td>\n",
       "      <td>4</td>\n",
       "      <td>M5</td>\n",
       "      <td>Z</td>\n",
       "      <td>9.4</td>\n",
       "      <td>7.0</td>\n",
       "      <td>8.3</td>\n",
       "      <td>34</td>\n",
       "      <td>191</td>\n",
       "    </tr>\n",
       "    <tr>\n",
       "      <th>3</th>\n",
       "      <td>1995</td>\n",
       "      <td>ACURA</td>\n",
       "      <td>LEGEND</td>\n",
       "      <td>COMPACT</td>\n",
       "      <td>3.2</td>\n",
       "      <td>6</td>\n",
       "      <td>A4</td>\n",
       "      <td>Z</td>\n",
       "      <td>12.6</td>\n",
       "      <td>8.9</td>\n",
       "      <td>10.9</td>\n",
       "      <td>26</td>\n",
       "      <td>251</td>\n",
       "    </tr>\n",
       "    <tr>\n",
       "      <th>4</th>\n",
       "      <td>1995</td>\n",
       "      <td>ACURA</td>\n",
       "      <td>LEGEND COUPE</td>\n",
       "      <td>COMPACT</td>\n",
       "      <td>3.2</td>\n",
       "      <td>6</td>\n",
       "      <td>A4</td>\n",
       "      <td>Z</td>\n",
       "      <td>13.0</td>\n",
       "      <td>9.3</td>\n",
       "      <td>11.3</td>\n",
       "      <td>25</td>\n",
       "      <td>260</td>\n",
       "    </tr>\n",
       "  </tbody>\n",
       "</table>\n",
       "</div>"
      ],
      "text/plain": [
       "  MODEL               MAKE                  MODEL      VEHICLE CLASS  \\\n",
       "   YEAR Unnamed: 1_level_1 # = high output engine Unnamed: 3_level_1   \n",
       "0  1995              ACURA                INTEGRA         SUBCOMPACT   \n",
       "1  1995              ACURA                INTEGRA         SUBCOMPACT   \n",
       "2  1995              ACURA           INTEGRA GS-R         SUBCOMPACT   \n",
       "3  1995              ACURA                 LEGEND            COMPACT   \n",
       "4  1995              ACURA           LEGEND COUPE            COMPACT   \n",
       "\n",
       "  ENGINE SIZE          CYLINDERS       TRANSMISSION FUEL FUEL CONSUMPTION  \\\n",
       "          (L) Unnamed: 5_level_1 Unnamed: 6_level_1 TYPE  CITY (L/100 km)   \n",
       "0         1.8                  4                 A4    X             10.2   \n",
       "1         1.8                  4                 M5    X              9.6   \n",
       "2         1.8                  4                 M5    Z              9.4   \n",
       "3         3.2                  6                 A4    Z             12.6   \n",
       "4         3.2                  6                 A4    Z             13.0   \n",
       "\n",
       "  Unnamed: 9_level_0 Unnamed: 10_level_0 Unnamed: 11_level_0 CO2 EMISSIONS   \n",
       "      HWY (L/100 km)     COMB (L/100 km)          COMB (mpg)         (g/km)  \n",
       "0                7.0                 8.8                  32            202  \n",
       "1                7.0                 8.4                  34            193  \n",
       "2                7.0                 8.3                  34            191  \n",
       "3                8.9                10.9                  26            251  \n",
       "4                9.3                11.3                  25            260  "
      ]
     },
     "execution_count": 24,
     "metadata": {},
     "output_type": "execute_result"
    }
   ],
   "source": [
    "csv_path = 'E:\\Subash\\Python\\Data_Science_Practice\\Case_Study\\Original_1995-1999_Fuel_Consumption_Ratings.csv'\n",
    "\n",
    "# To merge the first two rows\n",
    "df = pd.read_csv(csv_path, header=[0,1])\n",
    "df.head()"
   ]
  },
  {
   "cell_type": "code",
   "execution_count": 25,
   "metadata": {},
   "outputs": [],
   "source": [
    "df.columns = df.columns.map('_'.join) # to combine the two rows label into single"
   ]
  },
  {
   "cell_type": "code",
   "execution_count": 26,
   "metadata": {},
   "outputs": [
    {
     "data": {
      "text/html": [
       "<div>\n",
       "<style>\n",
       "    .dataframe thead tr:only-child th {\n",
       "        text-align: right;\n",
       "    }\n",
       "\n",
       "    .dataframe thead th {\n",
       "        text-align: left;\n",
       "    }\n",
       "\n",
       "    .dataframe tbody tr th {\n",
       "        vertical-align: top;\n",
       "    }\n",
       "</style>\n",
       "<table border=\"1\" class=\"dataframe\">\n",
       "  <thead>\n",
       "    <tr style=\"text-align: right;\">\n",
       "      <th></th>\n",
       "      <th>MODEL_YEAR</th>\n",
       "      <th>MAKE_Unnamed: 1_level_1</th>\n",
       "      <th>MODEL_# = high output engine</th>\n",
       "      <th>VEHICLE CLASS_Unnamed: 3_level_1</th>\n",
       "      <th>ENGINE SIZE_(L)</th>\n",
       "      <th>CYLINDERS_Unnamed: 5_level_1</th>\n",
       "      <th>TRANSMISSION_Unnamed: 6_level_1</th>\n",
       "      <th>FUEL_TYPE</th>\n",
       "      <th>FUEL CONSUMPTION_CITY (L/100 km)</th>\n",
       "      <th>Unnamed: 9_level_0_HWY (L/100 km)</th>\n",
       "      <th>Unnamed: 10_level_0_COMB (L/100 km)</th>\n",
       "      <th>Unnamed: 11_level_0_COMB (mpg)</th>\n",
       "      <th>CO2 EMISSIONS _(g/km)</th>\n",
       "    </tr>\n",
       "  </thead>\n",
       "  <tbody>\n",
       "    <tr>\n",
       "      <th>0</th>\n",
       "      <td>1995</td>\n",
       "      <td>ACURA</td>\n",
       "      <td>INTEGRA</td>\n",
       "      <td>SUBCOMPACT</td>\n",
       "      <td>1.8</td>\n",
       "      <td>4</td>\n",
       "      <td>A4</td>\n",
       "      <td>X</td>\n",
       "      <td>10.2</td>\n",
       "      <td>7.0</td>\n",
       "      <td>8.8</td>\n",
       "      <td>32</td>\n",
       "      <td>202</td>\n",
       "    </tr>\n",
       "    <tr>\n",
       "      <th>1</th>\n",
       "      <td>1995</td>\n",
       "      <td>ACURA</td>\n",
       "      <td>INTEGRA</td>\n",
       "      <td>SUBCOMPACT</td>\n",
       "      <td>1.8</td>\n",
       "      <td>4</td>\n",
       "      <td>M5</td>\n",
       "      <td>X</td>\n",
       "      <td>9.6</td>\n",
       "      <td>7.0</td>\n",
       "      <td>8.4</td>\n",
       "      <td>34</td>\n",
       "      <td>193</td>\n",
       "    </tr>\n",
       "    <tr>\n",
       "      <th>2</th>\n",
       "      <td>1995</td>\n",
       "      <td>ACURA</td>\n",
       "      <td>INTEGRA GS-R</td>\n",
       "      <td>SUBCOMPACT</td>\n",
       "      <td>1.8</td>\n",
       "      <td>4</td>\n",
       "      <td>M5</td>\n",
       "      <td>Z</td>\n",
       "      <td>9.4</td>\n",
       "      <td>7.0</td>\n",
       "      <td>8.3</td>\n",
       "      <td>34</td>\n",
       "      <td>191</td>\n",
       "    </tr>\n",
       "    <tr>\n",
       "      <th>3</th>\n",
       "      <td>1995</td>\n",
       "      <td>ACURA</td>\n",
       "      <td>LEGEND</td>\n",
       "      <td>COMPACT</td>\n",
       "      <td>3.2</td>\n",
       "      <td>6</td>\n",
       "      <td>A4</td>\n",
       "      <td>Z</td>\n",
       "      <td>12.6</td>\n",
       "      <td>8.9</td>\n",
       "      <td>10.9</td>\n",
       "      <td>26</td>\n",
       "      <td>251</td>\n",
       "    </tr>\n",
       "    <tr>\n",
       "      <th>4</th>\n",
       "      <td>1995</td>\n",
       "      <td>ACURA</td>\n",
       "      <td>LEGEND COUPE</td>\n",
       "      <td>COMPACT</td>\n",
       "      <td>3.2</td>\n",
       "      <td>6</td>\n",
       "      <td>A4</td>\n",
       "      <td>Z</td>\n",
       "      <td>13.0</td>\n",
       "      <td>9.3</td>\n",
       "      <td>11.3</td>\n",
       "      <td>25</td>\n",
       "      <td>260</td>\n",
       "    </tr>\n",
       "  </tbody>\n",
       "</table>\n",
       "</div>"
      ],
      "text/plain": [
       "   MODEL_YEAR MAKE_Unnamed: 1_level_1 MODEL_# = high output engine  \\\n",
       "0        1995                   ACURA                      INTEGRA   \n",
       "1        1995                   ACURA                      INTEGRA   \n",
       "2        1995                   ACURA                 INTEGRA GS-R   \n",
       "3        1995                   ACURA                       LEGEND   \n",
       "4        1995                   ACURA                 LEGEND COUPE   \n",
       "\n",
       "  VEHICLE CLASS_Unnamed: 3_level_1  ENGINE SIZE_(L)  \\\n",
       "0                       SUBCOMPACT              1.8   \n",
       "1                       SUBCOMPACT              1.8   \n",
       "2                       SUBCOMPACT              1.8   \n",
       "3                          COMPACT              3.2   \n",
       "4                          COMPACT              3.2   \n",
       "\n",
       "   CYLINDERS_Unnamed: 5_level_1 TRANSMISSION_Unnamed: 6_level_1 FUEL_TYPE  \\\n",
       "0                             4                              A4         X   \n",
       "1                             4                              M5         X   \n",
       "2                             4                              M5         Z   \n",
       "3                             6                              A4         Z   \n",
       "4                             6                              A4         Z   \n",
       "\n",
       "   FUEL CONSUMPTION_CITY (L/100 km)  Unnamed: 9_level_0_HWY (L/100 km)  \\\n",
       "0                              10.2                                7.0   \n",
       "1                               9.6                                7.0   \n",
       "2                               9.4                                7.0   \n",
       "3                              12.6                                8.9   \n",
       "4                              13.0                                9.3   \n",
       "\n",
       "   Unnamed: 10_level_0_COMB (L/100 km)  Unnamed: 11_level_0_COMB (mpg)  \\\n",
       "0                                  8.8                              32   \n",
       "1                                  8.4                              34   \n",
       "2                                  8.3                              34   \n",
       "3                                 10.9                              26   \n",
       "4                                 11.3                              25   \n",
       "\n",
       "   CO2 EMISSIONS _(g/km)  \n",
       "0                    202  \n",
       "1                    193  \n",
       "2                    191  \n",
       "3                    251  \n",
       "4                    260  "
      ]
     },
     "execution_count": 26,
     "metadata": {},
     "output_type": "execute_result"
    }
   ],
   "source": [
    "df.head()"
   ]
  },
  {
   "cell_type": "code",
   "execution_count": 27,
   "metadata": {},
   "outputs": [
    {
     "data": {
      "text/html": [
       "<div>\n",
       "<style>\n",
       "    .dataframe thead tr:only-child th {\n",
       "        text-align: right;\n",
       "    }\n",
       "\n",
       "    .dataframe thead th {\n",
       "        text-align: left;\n",
       "    }\n",
       "\n",
       "    .dataframe tbody tr th {\n",
       "        vertical-align: top;\n",
       "    }\n",
       "</style>\n",
       "<table border=\"1\" class=\"dataframe\">\n",
       "  <thead>\n",
       "    <tr style=\"text-align: right;\">\n",
       "      <th></th>\n",
       "      <th>MODEL_YEAR</th>\n",
       "      <th>ENGINE SIZE_(L)</th>\n",
       "      <th>CYLINDERS_Unnamed: 5_level_1</th>\n",
       "      <th>FUEL CONSUMPTION_CITY (L/100 km)</th>\n",
       "      <th>Unnamed: 9_level_0_HWY (L/100 km)</th>\n",
       "      <th>Unnamed: 10_level_0_COMB (L/100 km)</th>\n",
       "      <th>Unnamed: 11_level_0_COMB (mpg)</th>\n",
       "      <th>CO2 EMISSIONS _(g/km)</th>\n",
       "    </tr>\n",
       "  </thead>\n",
       "  <tbody>\n",
       "    <tr>\n",
       "      <th>count</th>\n",
       "      <td>3519.000000</td>\n",
       "      <td>3519.000000</td>\n",
       "      <td>3519.000000</td>\n",
       "      <td>3519.000000</td>\n",
       "      <td>3519.000000</td>\n",
       "      <td>3519.000000</td>\n",
       "      <td>3519.000000</td>\n",
       "      <td>3519.000000</td>\n",
       "    </tr>\n",
       "    <tr>\n",
       "      <th>mean</th>\n",
       "      <td>1996.894856</td>\n",
       "      <td>3.347769</td>\n",
       "      <td>5.780904</td>\n",
       "      <td>13.196959</td>\n",
       "      <td>9.087013</td>\n",
       "      <td>11.346149</td>\n",
       "      <td>26.419153</td>\n",
       "      <td>261.757602</td>\n",
       "    </tr>\n",
       "    <tr>\n",
       "      <th>std</th>\n",
       "      <td>1.451225</td>\n",
       "      <td>1.383725</td>\n",
       "      <td>1.641738</td>\n",
       "      <td>3.235520</td>\n",
       "      <td>2.249332</td>\n",
       "      <td>2.759598</td>\n",
       "      <td>6.709915</td>\n",
       "      <td>63.564076</td>\n",
       "    </tr>\n",
       "    <tr>\n",
       "      <th>min</th>\n",
       "      <td>1995.000000</td>\n",
       "      <td>1.000000</td>\n",
       "      <td>2.000000</td>\n",
       "      <td>5.400000</td>\n",
       "      <td>4.300000</td>\n",
       "      <td>4.900000</td>\n",
       "      <td>13.000000</td>\n",
       "      <td>113.000000</td>\n",
       "    </tr>\n",
       "    <tr>\n",
       "      <th>25%</th>\n",
       "      <td>1996.000000</td>\n",
       "      <td>2.200000</td>\n",
       "      <td>4.000000</td>\n",
       "      <td>10.800000</td>\n",
       "      <td>7.500000</td>\n",
       "      <td>9.400000</td>\n",
       "      <td>22.000000</td>\n",
       "      <td>216.000000</td>\n",
       "    </tr>\n",
       "    <tr>\n",
       "      <th>50%</th>\n",
       "      <td>1997.000000</td>\n",
       "      <td>3.000000</td>\n",
       "      <td>6.000000</td>\n",
       "      <td>12.900000</td>\n",
       "      <td>8.600000</td>\n",
       "      <td>11.000000</td>\n",
       "      <td>26.000000</td>\n",
       "      <td>253.000000</td>\n",
       "    </tr>\n",
       "    <tr>\n",
       "      <th>75%</th>\n",
       "      <td>1998.000000</td>\n",
       "      <td>4.300000</td>\n",
       "      <td>6.000000</td>\n",
       "      <td>15.100000</td>\n",
       "      <td>10.700000</td>\n",
       "      <td>13.100000</td>\n",
       "      <td>30.000000</td>\n",
       "      <td>304.000000</td>\n",
       "    </tr>\n",
       "    <tr>\n",
       "      <th>max</th>\n",
       "      <td>1999.000000</td>\n",
       "      <td>8.000000</td>\n",
       "      <td>12.000000</td>\n",
       "      <td>26.100000</td>\n",
       "      <td>16.100000</td>\n",
       "      <td>21.300000</td>\n",
       "      <td>58.000000</td>\n",
       "      <td>490.000000</td>\n",
       "    </tr>\n",
       "  </tbody>\n",
       "</table>\n",
       "</div>"
      ],
      "text/plain": [
       "        MODEL_YEAR  ENGINE SIZE_(L)  CYLINDERS_Unnamed: 5_level_1  \\\n",
       "count  3519.000000      3519.000000                   3519.000000   \n",
       "mean   1996.894856         3.347769                      5.780904   \n",
       "std       1.451225         1.383725                      1.641738   \n",
       "min    1995.000000         1.000000                      2.000000   \n",
       "25%    1996.000000         2.200000                      4.000000   \n",
       "50%    1997.000000         3.000000                      6.000000   \n",
       "75%    1998.000000         4.300000                      6.000000   \n",
       "max    1999.000000         8.000000                     12.000000   \n",
       "\n",
       "       FUEL CONSUMPTION_CITY (L/100 km)  Unnamed: 9_level_0_HWY (L/100 km)  \\\n",
       "count                       3519.000000                        3519.000000   \n",
       "mean                          13.196959                           9.087013   \n",
       "std                            3.235520                           2.249332   \n",
       "min                            5.400000                           4.300000   \n",
       "25%                           10.800000                           7.500000   \n",
       "50%                           12.900000                           8.600000   \n",
       "75%                           15.100000                          10.700000   \n",
       "max                           26.100000                          16.100000   \n",
       "\n",
       "       Unnamed: 10_level_0_COMB (L/100 km)  Unnamed: 11_level_0_COMB (mpg)  \\\n",
       "count                          3519.000000                     3519.000000   \n",
       "mean                             11.346149                       26.419153   \n",
       "std                               2.759598                        6.709915   \n",
       "min                               4.900000                       13.000000   \n",
       "25%                               9.400000                       22.000000   \n",
       "50%                              11.000000                       26.000000   \n",
       "75%                              13.100000                       30.000000   \n",
       "max                              21.300000                       58.000000   \n",
       "\n",
       "       CO2 EMISSIONS _(g/km)  \n",
       "count            3519.000000  \n",
       "mean              261.757602  \n",
       "std                63.564076  \n",
       "min               113.000000  \n",
       "25%               216.000000  \n",
       "50%               253.000000  \n",
       "75%               304.000000  \n",
       "max               490.000000  "
      ]
     },
     "execution_count": 27,
     "metadata": {},
     "output_type": "execute_result"
    }
   ],
   "source": [
    "df.describe()"
   ]
  },
  {
   "cell_type": "code",
   "execution_count": 28,
   "metadata": {},
   "outputs": [],
   "source": [
    "df.rename(columns={'ENGINE SIZE_(L)':'ENGINE_SIZE', 'CYLINDERS_Unnamed: 5_level_1':'CYLINDERS', 'Unnamed: 10_level_0_COMB (L/100 km)':'FUEL_CONSUMPTION_COMB', 'CO2 EMISSIONS _(g/km)':'CO2_EMISSIONS'}, inplace=True)"
   ]
  },
  {
   "cell_type": "code",
   "execution_count": 29,
   "metadata": {},
   "outputs": [
    {
     "data": {
      "text/html": [
       "<div>\n",
       "<style>\n",
       "    .dataframe thead tr:only-child th {\n",
       "        text-align: right;\n",
       "    }\n",
       "\n",
       "    .dataframe thead th {\n",
       "        text-align: left;\n",
       "    }\n",
       "\n",
       "    .dataframe tbody tr th {\n",
       "        vertical-align: top;\n",
       "    }\n",
       "</style>\n",
       "<table border=\"1\" class=\"dataframe\">\n",
       "  <thead>\n",
       "    <tr style=\"text-align: right;\">\n",
       "      <th></th>\n",
       "      <th>MODEL_YEAR</th>\n",
       "      <th>MAKE_Unnamed: 1_level_1</th>\n",
       "      <th>MODEL_# = high output engine</th>\n",
       "      <th>VEHICLE CLASS_Unnamed: 3_level_1</th>\n",
       "      <th>ENGINE_SIZE</th>\n",
       "      <th>CYLINDERS</th>\n",
       "      <th>TRANSMISSION_Unnamed: 6_level_1</th>\n",
       "      <th>FUEL_TYPE</th>\n",
       "      <th>FUEL CONSUMPTION_CITY (L/100 km)</th>\n",
       "      <th>Unnamed: 9_level_0_HWY (L/100 km)</th>\n",
       "      <th>FUEL_CONSUMPTION_COMB</th>\n",
       "      <th>Unnamed: 11_level_0_COMB (mpg)</th>\n",
       "      <th>CO2_EMISSIONS</th>\n",
       "    </tr>\n",
       "  </thead>\n",
       "  <tbody>\n",
       "    <tr>\n",
       "      <th>0</th>\n",
       "      <td>1995</td>\n",
       "      <td>ACURA</td>\n",
       "      <td>INTEGRA</td>\n",
       "      <td>SUBCOMPACT</td>\n",
       "      <td>1.8</td>\n",
       "      <td>4</td>\n",
       "      <td>A4</td>\n",
       "      <td>X</td>\n",
       "      <td>10.2</td>\n",
       "      <td>7.0</td>\n",
       "      <td>8.8</td>\n",
       "      <td>32</td>\n",
       "      <td>202</td>\n",
       "    </tr>\n",
       "    <tr>\n",
       "      <th>1</th>\n",
       "      <td>1995</td>\n",
       "      <td>ACURA</td>\n",
       "      <td>INTEGRA</td>\n",
       "      <td>SUBCOMPACT</td>\n",
       "      <td>1.8</td>\n",
       "      <td>4</td>\n",
       "      <td>M5</td>\n",
       "      <td>X</td>\n",
       "      <td>9.6</td>\n",
       "      <td>7.0</td>\n",
       "      <td>8.4</td>\n",
       "      <td>34</td>\n",
       "      <td>193</td>\n",
       "    </tr>\n",
       "    <tr>\n",
       "      <th>2</th>\n",
       "      <td>1995</td>\n",
       "      <td>ACURA</td>\n",
       "      <td>INTEGRA GS-R</td>\n",
       "      <td>SUBCOMPACT</td>\n",
       "      <td>1.8</td>\n",
       "      <td>4</td>\n",
       "      <td>M5</td>\n",
       "      <td>Z</td>\n",
       "      <td>9.4</td>\n",
       "      <td>7.0</td>\n",
       "      <td>8.3</td>\n",
       "      <td>34</td>\n",
       "      <td>191</td>\n",
       "    </tr>\n",
       "    <tr>\n",
       "      <th>3</th>\n",
       "      <td>1995</td>\n",
       "      <td>ACURA</td>\n",
       "      <td>LEGEND</td>\n",
       "      <td>COMPACT</td>\n",
       "      <td>3.2</td>\n",
       "      <td>6</td>\n",
       "      <td>A4</td>\n",
       "      <td>Z</td>\n",
       "      <td>12.6</td>\n",
       "      <td>8.9</td>\n",
       "      <td>10.9</td>\n",
       "      <td>26</td>\n",
       "      <td>251</td>\n",
       "    </tr>\n",
       "    <tr>\n",
       "      <th>4</th>\n",
       "      <td>1995</td>\n",
       "      <td>ACURA</td>\n",
       "      <td>LEGEND COUPE</td>\n",
       "      <td>COMPACT</td>\n",
       "      <td>3.2</td>\n",
       "      <td>6</td>\n",
       "      <td>A4</td>\n",
       "      <td>Z</td>\n",
       "      <td>13.0</td>\n",
       "      <td>9.3</td>\n",
       "      <td>11.3</td>\n",
       "      <td>25</td>\n",
       "      <td>260</td>\n",
       "    </tr>\n",
       "  </tbody>\n",
       "</table>\n",
       "</div>"
      ],
      "text/plain": [
       "   MODEL_YEAR MAKE_Unnamed: 1_level_1 MODEL_# = high output engine  \\\n",
       "0        1995                   ACURA                      INTEGRA   \n",
       "1        1995                   ACURA                      INTEGRA   \n",
       "2        1995                   ACURA                 INTEGRA GS-R   \n",
       "3        1995                   ACURA                       LEGEND   \n",
       "4        1995                   ACURA                 LEGEND COUPE   \n",
       "\n",
       "  VEHICLE CLASS_Unnamed: 3_level_1  ENGINE_SIZE  CYLINDERS  \\\n",
       "0                       SUBCOMPACT          1.8          4   \n",
       "1                       SUBCOMPACT          1.8          4   \n",
       "2                       SUBCOMPACT          1.8          4   \n",
       "3                          COMPACT          3.2          6   \n",
       "4                          COMPACT          3.2          6   \n",
       "\n",
       "  TRANSMISSION_Unnamed: 6_level_1 FUEL_TYPE  FUEL CONSUMPTION_CITY (L/100 km)  \\\n",
       "0                              A4         X                              10.2   \n",
       "1                              M5         X                               9.6   \n",
       "2                              M5         Z                               9.4   \n",
       "3                              A4         Z                              12.6   \n",
       "4                              A4         Z                              13.0   \n",
       "\n",
       "   Unnamed: 9_level_0_HWY (L/100 km)  FUEL_CONSUMPTION_COMB  \\\n",
       "0                                7.0                    8.8   \n",
       "1                                7.0                    8.4   \n",
       "2                                7.0                    8.3   \n",
       "3                                8.9                   10.9   \n",
       "4                                9.3                   11.3   \n",
       "\n",
       "   Unnamed: 11_level_0_COMB (mpg)  CO2_EMISSIONS  \n",
       "0                              32            202  \n",
       "1                              34            193  \n",
       "2                              34            191  \n",
       "3                              26            251  \n",
       "4                              25            260  "
      ]
     },
     "execution_count": 29,
     "metadata": {},
     "output_type": "execute_result"
    }
   ],
   "source": [
    "df.head()"
   ]
  },
  {
   "cell_type": "code",
   "execution_count": 30,
   "metadata": {},
   "outputs": [
    {
     "name": "stdout",
     "output_type": "stream",
     "text": [
      "ENGINE_SIZE\n",
      "False    3519\n",
      "Name: ENGINE_SIZE, dtype: int64\n",
      "CYLINDERS\n",
      "False    3519\n",
      "Name: CYLINDERS, dtype: int64\n",
      "FUEL_CONSUMPTION_COMB\n",
      "False    3519\n",
      "Name: FUEL_CONSUMPTION_COMB, dtype: int64\n",
      "CO2_EMISSIONS\n",
      "False    3519\n",
      "Name: CO2_EMISSIONS, dtype: int64\n"
     ]
    }
   ],
   "source": [
    "cdf = df[['ENGINE_SIZE', 'CYLINDERS', 'FUEL_CONSUMPTION_COMB', 'CO2_EMISSIONS']]\n",
    "missing_data = cdf.isnull()\n",
    "for col in missing_data.columns.values.tolist():\n",
    "    print col\n",
    "    print (missing_data[col].value_counts())"
   ]
  },
  {
   "cell_type": "code",
   "execution_count": 31,
   "metadata": {},
   "outputs": [
    {
     "data": {
      "image/png": "[encoded data removed]",
      "text/plain": [
       "<matplotlib.figure.Figure at 0x9155530>"
      ]
     },
     "metadata": {},
     "output_type": "display_data"
    }
   ],
   "source": [
    "# To plot graph for each of this variable\n",
    "viz = cdf[['ENGINE_SIZE', 'CYLINDERS', 'FUEL_CONSUMPTION_COMB', 'CO2_EMISSIONS']]\n",
    "viz.hist()\n",
    "plt.show()"
   ]
  },
  {
   "cell_type": "code",
   "execution_count": 32,
   "metadata": {},
   "outputs": [
    {
     "data": {
      "image/png": "[encoded data removed]",
      "text/plain": [
       "<matplotlib.figure.Figure at 0x914fc90>"
      ]
     },
     "metadata": {},
     "output_type": "display_data"
    }
   ],
   "source": [
    "# Plot each feature with the Emission\n",
    "# Engine size vs Emission\n",
    "plt.scatter(cdf.ENGINE_SIZE, cdf.CO2_EMISSIONS, color='blue')\n",
    "plt.xlabel('Engine Size')\n",
    "plt.ylabel('Emission')\n",
    "plt.show()"
   ]
  },
  {
   "cell_type": "code",
   "execution_count": 33,
   "metadata": {},
   "outputs": [
    {
     "data": {
      "image/png": "[encoded data removed]",
      "text/plain": [
       "<matplotlib.figure.Figure at 0xa736db0>"
      ]
     },
     "metadata": {},
     "output_type": "display_data"
    }
   ],
   "source": [
    "# CYLINDERS vs Emission\n",
    "plt.scatter(cdf.CYLINDERS, cdf.CO2_EMISSIONS, color='blue')\n",
    "plt.xlabel('Cylinders')\n",
    "plt.ylabel('Emission')\n",
    "plt.show()"
   ]
  },
  {
   "cell_type": "code",
   "execution_count": 34,
   "metadata": {},
   "outputs": [
    {
     "data": {
      "image/png": "[encoded data removed]",
      "text/plain": [
       "<matplotlib.figure.Figure at 0xa7fd170>"
      ]
     },
     "metadata": {},
     "output_type": "display_data"
    }
   ],
   "source": [
    "# FUEL_CONSUMPTION_COMB vs Emission\n",
    "plt.scatter(cdf.FUEL_CONSUMPTION_COMB, cdf.CO2_EMISSIONS, color='blue')\n",
    "plt.xlabel('Fuel Consumption')\n",
    "plt.ylabel('Emission')\n",
    "plt.show()"
   ]
  },
  {
   "cell_type": "markdown",
   "metadata": {},
   "source": [
    "Lets split the dataset into training and testing dataset, as this will provide a more accurate evaluation on \n",
    "out-of-sample accuracy because the testing dataset is not part of the dataset that have been used to train the data. \n",
    "It is more realistic for real world problems."
   ]
  },
  {
   "cell_type": "code",
   "execution_count": 35,
   "metadata": {},
   "outputs": [],
   "source": [
    "# Lets split our dataset into train and test sets, 80% of the entire data for training, and the 20% for testing. \n",
    "# We create a mask to select random rows using np.random.rand() function:\n",
    "msk = np.random.rand(len(df)) < 0.8\n",
    "train = cdf[msk]\n",
    "test = cdf[~msk]"
   ]
  },
  {
   "cell_type": "markdown",
   "metadata": {},
   "source": [
    "Simple Regression Model\n",
    "\n",
    "Linear Regression fits a linear model with coefficients  θ=(θ1,...,θn)θ=(θ1,...,θn)  to minimize the 'residual sum of squares' between the independent x in the dataset, and the dependent y by the linear approximation."
   ]
  },
  {
   "cell_type": "code",
   "execution_count": 36,
   "metadata": {},
   "outputs": [
    {
     "data": {
      "image/png": "[encoded data removed]",
      "text/plain": [
       "<matplotlib.figure.Figure at 0xa5a90d0>"
      ]
     },
     "metadata": {},
     "output_type": "display_data"
    }
   ],
   "source": [
    "# Train data distribution\n",
    "plt.scatter(train.ENGINE_SIZE, train.CO2_EMISSIONS, color='blue')\n",
    "plt.xlabel('Engine Size')\n",
    "plt.ylabel('Emissions')\n",
    "plt.show()"
   ]
  },
  {
   "cell_type": "markdown",
   "metadata": {},
   "source": [
    "Modelling"
   ]
  },
  {
   "cell_type": "code",
   "execution_count": 37,
   "metadata": {},
   "outputs": [
    {
     "data": {
      "text/plain": [
       "LinearRegression(copy_X=True, fit_intercept=True, n_jobs=1, normalize=False)"
      ]
     },
     "execution_count": 37,
     "metadata": {},
     "output_type": "execute_result"
    }
   ],
   "source": [
    "# Using sklearn to model the data\n",
    "from sklearn import linear_model\n",
    "regr = linear_model.LinearRegression()\n",
    "train_x = np.asanyarray(train[['ENGINE_SIZE']])\n",
    "train_y = np.asanyarray(train[['CO2_EMISSIONS']])\n",
    "regr.fit(train_x, train_y)"
   ]
  },
  {
   "cell_type": "code",
   "execution_count": 38,
   "metadata": {},
   "outputs": [
    {
     "name": "stdout",
     "output_type": "stream",
     "text": [
      "('Coeffiecent: ', array([[40.30535158]]))\n",
      "('Intercept: ', array([127.08820909]))\n"
     ]
    }
   ],
   "source": [
    "# Print the co-efficients\n",
    "print('Coeffiecent: ', regr.coef_)\n",
    "print('Intercept: ', regr.intercept_)"
   ]
  },
  {
   "cell_type": "code",
   "execution_count": 40,
   "metadata": {},
   "outputs": [
    {
     "data": {
      "image/png": "[encoded data removed]",
      "text/plain": [
       "<matplotlib.figure.Figure at 0xa7fd0b0>"
      ]
     },
     "metadata": {},
     "output_type": "display_data"
    }
   ],
   "source": [
    "# Plot the output\n",
    "plt.scatter(train_x, train_y, color='blue')\n",
    "plt.plot(train_x, regr.coef_[0][0]*train_x + regr.intercept_[0], color='red')\n",
    "plt.xlabel('Engine Size')\n",
    "plt.ylabel('Emission')\n",
    "plt.show()"
   ]
  },
  {
   "cell_type": "markdown",
   "metadata": {},
   "source": [
    "Evaluation"
   ]
  },
  {
   "cell_type": "code",
   "execution_count": 42,
   "metadata": {},
   "outputs": [],
   "source": [
    "from sklearn.metrics import r2_score\n",
    "\n",
    "train_x = np.asanyarray(train[['ENGINE_SIZE']])\n",
    "train_y = np.asanyarray(train[['CO2_EMISSIONS']])\n",
    "\n",
    "train_yhat = regr.predict(train_x)"
   ]
  },
  {
   "cell_type": "code",
   "execution_count": 48,
   "metadata": {},
   "outputs": [
    {
     "name": "stdout",
     "output_type": "stream",
     "text": [
      "Mean Absoulte Error: 22.36\n",
      "Mean Square Error: 937.04\n",
      "R2-Score: 0.70\n",
      "RMSE 30.61\n"
     ]
    }
   ],
   "source": [
    "import math\n",
    "\n",
    "print('Mean Absoulte Error: %.2f' % np.mean(np.absolute(train_yhat - train_y)))\n",
    "print('Mean Square Error: %.2f' % np.mean((train_yhat - train_y) ** 2))\n",
    "print('R2-Score: %.2f' % r2_score(train_yhat, train_y))\n",
    "print('RMSE %.2f' % math.sqrt(np.mean((train_yhat - train_y) ** 2)))"
   ]
  },
  {
   "cell_type": "code",
   "execution_count": null,
   "metadata": {},
   "outputs": [],
   "source": []
  }
 ],
 "metadata": {
  "kernelspec": {
   "display_name": "Python 2",
   "language": "python",
   "name": "python2"
  },
  "language_info": {
   "codemirror_mode": {
    "name": "ipython",
    "version": 2
   },
   "file_extension": ".py",
   "mimetype": "text/x-python",
   "name": "python",
   "nbconvert_exporter": "python",
   "pygments_lexer": "ipython2",
   "version": "2.7.12"
  }
 },
 "nbformat": 4,
 "nbformat_minor": 2
}
