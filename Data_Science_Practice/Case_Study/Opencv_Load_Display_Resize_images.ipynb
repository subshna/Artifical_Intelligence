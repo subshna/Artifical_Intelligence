{
 "cells": [
  {
   "cell_type": "code",
   "execution_count": 1,
   "metadata": {},
   "outputs": [],
   "source": [
    "import cv2"
   ]
  },
  {
   "cell_type": "code",
   "execution_count": 2,
   "metadata": {},
   "outputs": [],
   "source": [
    "# Loading the Image\n",
    "#where 0=Grayscale and 1=RGB\n",
    "\n",
    "my_image = cv2.imread('Photo1.jpg', 0)"
   ]
  },
  {
   "cell_type": "code",
   "execution_count": 3,
   "metadata": {},
   "outputs": [
    {
     "name": "stdout",
     "output_type": "stream",
     "text": [
      "<type 'numpy.ndarray'>\n",
      "((2304, 3541), '\\n')\n",
      "[[118 116 117 ... 164 169 172]\n",
      " [111 116 122 ... 165 169 172]\n",
      " [122 120 119 ... 167 168 170]\n",
      " ...\n",
      " [ 90  95  85 ...  36  36  35]\n",
      " [ 91  95  84 ...  37  37  41]\n",
      " [ 87  94  87 ...  39  35  37]]\n"
     ]
    }
   ],
   "source": [
    "# Type of my_image object\n",
    "print (type(my_image))\n",
    "print (my_image.shape, '\\n')\n",
    "print (my_image)"
   ]
  },
  {
   "cell_type": "code",
   "execution_count": 4,
   "metadata": {},
   "outputs": [],
   "source": [
    "# resize the image\n",
    "resize_image = cv2.resize(my_image, (600, 188))"
   ]
  },
  {
   "cell_type": "code",
   "execution_count": 6,
   "metadata": {},
   "outputs": [],
   "source": [
    "cv2.imshow('image', resize_image)\n",
    "cv2.waitKey(2000)\n",
    "cv2.destroyAllWindows()"
   ]
  },
  {
   "cell_type": "code",
   "execution_count": null,
   "metadata": {},
   "outputs": [],
   "source": []
  }
 ],
 "metadata": {
  "kernelspec": {
   "display_name": "Python 2",
   "language": "python",
   "name": "python2"
  },
  "language_info": {
   "codemirror_mode": {
    "name": "ipython",
    "version": 2
   },
   "file_extension": ".py",
   "mimetype": "text/x-python",
   "name": "python",
   "nbconvert_exporter": "python",
   "pygments_lexer": "ipython2",
   "version": "2.7.12"
  }
 },
 "nbformat": 4,
 "nbformat_minor": 2
}
